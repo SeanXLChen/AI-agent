{
 "cells": [
  {
   "cell_type": "code",
   "execution_count": 2,
   "metadata": {},
   "outputs": [
    {
     "name": "stderr",
     "output_type": "stream",
     "text": [
      "USER_AGENT environment variable not set, consider setting it to identify your requests.\n"
     ]
    },
    {
     "name": "stdout",
     "output_type": "stream",
     "text": [
      "Total characters: 5188\n"
     ]
    }
   ],
   "source": [
    "import bs4\n",
    "from langchain_community.document_loaders import WebBaseLoader\n",
    "\n",
    "# Only keep post title, headers, and content from the full HTML.\n",
    "bs4_strainer = bs4.SoupStrainer(class_=(\"item-title shokz_sans_display\",\"item-subtitle shokz_sans_display\", \"item-content\"))\n",
    "loader = WebBaseLoader(\n",
    "    web_paths=(\"https://ca.shokz.com/pages/our-story\",),\n",
    "    bs_kwargs={\"parse_only\": bs4_strainer},\n",
    ")\n",
    "docs = loader.load()\n",
    "\n",
    "assert len(docs) == 1\n",
    "print(f\"Total characters: {len(docs[0].page_content)}\")"
   ]
  },
  {
   "cell_type": "code",
   "execution_count": 3,
   "metadata": {},
   "outputs": [
    {
     "data": {
      "text/plain": [
       "[Document(metadata={'source': 'https://ca.shokz.com/pages/our-story'}, page_content='Why We Began?While other headphones chase an isolated listening experience,  we’re chasing something altogether different.In modern society, people choose to wear noise-canceling headphones to help block out the ambient noise around them. However, this also blocks communication between people and blocks the noise of traffic, so people are less aware of the safety of their surroundings. Shokz believes in a different vision of the future. A vision that brings people together, one that allows you to keep your ears open so you can hear what is going on around you. This is why we created our Open-Ear Headphones.Mission?We are always seeking ways to improve people’s listening experiences through Open-Ear technology. We strive to contribute to a world that listens more.We are committed to bringing great technological innovations to people\\'s daily life and therefore to becoming a company that constantly realizes original technological innovations, adhering to its corporate mission of \"driving the world forward with technology innovation, making life better for people\".Why Us?Shokz is the world’s leading pioneer in Open-Ear technology.We always adhere to technology-driven and user-driven product development and never stop moving. We have a strong technological foundation with our key Open-Ear technologies: namely Bone Conduction Technology and DirectPitch™ Technology. They both ensure that our users can enjoy their personal listening experiences while keeping safe. We are always innovating to bring even more mind-blowing listening experiences!Countries And RegionsCustomer Review RatingCustomersPatents· Shokz is once again pushing the boundaries of open-ear audio, launching OpenFit 2 and OpenMeet UC.\\n· Setting a new industry standard, OpenFit 2 boasts innovative DualBoost Technology, a stable and flexible fit, and physical buttons for precise control whether you’re at the gym or in the office.\\n· Shokz\\'s first overhead bone conduction headset, OpenMeet UC, is recognized as a CES Innovation Awards® 2025 honoree for prioritizing human-centered features. This marks a groundbreaking leap forward in professional headset comfort, connection, and engineering.· Shokz launches the flagship bone conduction headphone, OpenRun Pro 2, rewriting the rules of open-ear audio with DualPitch. This pioneering technology combines bone conduction for precise mids and highs with a dedicated air conduction speaker for controlled, deep bass to create an unparalleled listening experience. With an ultra-comfortable and secure fit, OpenRun Pro 2 helps sports enthusiasts keep going – even during intense activities.· In 2024, Shokz continued to innovate in the open-ear audio market with the launch of two exciting new products; OpenFit Air and OpenSwim Pro. \\n· Designed for effortless comfort, the OpenFit Air features a unique, pliable cut-out design, ensuring a secure and comfortable fit during extended listening sessions. \\n· OpenSwim Pro’s IP68 waterproof rating and dual modes (Bluetooth and MP3), keep adventure seekers connected to their music from diving into fresh pools, to taking on rugged trails in the backcountry.· Shokz welcomes OpenFit, our first globally launched open-ear true wireless earbuds powered by DirectPitchTM technology. DirectPitchTM technology is an innovative technology which transmits sounds through air conduction without covering your ear canals. This is the first time we set foot into the true wireless earbud area.· Shokz launches OpenRun Pro, the flagship sports headphones with enhanced bass and extended battery life.\\n\\n\\n· Shokz launches OpenRun Pro Mini in the same year to better accommodate different head sizes.\\n\\n· Shokz launches a new communication line product OpenComm UC.· The company formerly known as AfterShokz announces a new brand name (Shokz), product names, and logo.\\n\\n\\n· The company upgrades Aeropex to OpenRun, the advanced sports headphone now with a quick charge function!\\n\\n· Xtrainez swimming MP3 player is re-named as OpenSwim, allowing users to swim with open-ear listening.· Shokz relocates its North American headquarters from Syracuse, NY to Austin, TX. Shokz retires Titanium and introduces OpenMove, open-ear lifestyle/sport headphones. \\n\\n· Shokz introduces Aeropex Mini, Aeropex now in a smaller size! \\n\\n· Shokz releases OpenComm, the brand’s first-ever bone conduction stereo Bluetooth headset, also our first communication line product.· Shokz welcomes Aeropex, advanced wireless bone conduction headphones, to the product line family.\\n· Shokz also launches the first-ever fully waterproof swimming bone conduction MP3 player, Xtrainerz.· Shokz unveils the Air, wireless bone conduction headphones featuring a lightweight and comfortable design and a titanium wraparound frame.· Shokz launches its wireless bone conduction headphone model Titanium via an Indiegogo campaign and sees record-breaking success.· Shokz releases the Bluez model, marking the brand’s first foray into the wireless bone conduction headphones market.· The brand, formerly known as AfterShokz, makes its debut in the headphone industry in October.\\n· Shokz files its first patent about open-ear technology.· The company is established.')]"
      ]
     },
     "execution_count": 3,
     "metadata": {},
     "output_type": "execute_result"
    }
   ],
   "source": [
    "docs"
   ]
  },
  {
   "cell_type": "code",
   "execution_count": 4,
   "metadata": {},
   "outputs": [
    {
     "name": "stdout",
     "output_type": "stream",
     "text": [
      "Why We Began?While other headphones chase an isolated listening experience,  we’re chasing something altogether different.In modern society, people choose to wear noise-canceling headphones to help block out the ambient noise around them. However, this also blocks communication between people and blocks the noise of traffic, so people are less aware of the safety of their surroundings. Shokz believes in a different vision of the future. A vision that brings people together, one that allows you t\n"
     ]
    }
   ],
   "source": [
    "print(docs[0].page_content[:500])"
   ]
  },
  {
   "cell_type": "code",
   "execution_count": 5,
   "metadata": {},
   "outputs": [
    {
     "name": "stdout",
     "output_type": "stream",
     "text": [
      "Split blog post into 7 sub-documents.\n"
     ]
    }
   ],
   "source": [
    "from langchain_text_splitters import RecursiveCharacterTextSplitter\n",
    "\n",
    "text_splitter = RecursiveCharacterTextSplitter(\n",
    "    chunk_size=1000,  # chunk size (characters)\n",
    "    chunk_overlap=200,  # chunk overlap (characters)\n",
    "    add_start_index=True,  # track index in original document\n",
    ")\n",
    "all_splits = text_splitter.split_documents(docs)\n",
    "\n",
    "print(f\"Split blog post into {len(all_splits)} sub-documents.\")"
   ]
  },
  {
   "cell_type": "code",
   "execution_count": 6,
   "metadata": {},
   "outputs": [
    {
     "data": {
      "text/plain": [
       "[Document(metadata={'source': 'https://ca.shokz.com/pages/our-story', 'start_index': 0}, page_content='Why We Began?While other headphones chase an isolated listening experience,  we’re chasing something altogether different.In modern society, people choose to wear noise-canceling headphones to help block out the ambient noise around them. However, this also blocks communication between people and blocks the noise of traffic, so people are less aware of the safety of their surroundings. Shokz believes in a different vision of the future. A vision that brings people together, one that allows you to keep your ears open so you can hear what is going on around you. This is why we created our Open-Ear Headphones.Mission?We are always seeking ways to improve people’s listening experiences through Open-Ear technology. We strive to contribute to a world that listens more.We are committed to bringing great technological innovations to people\\'s daily life and therefore to becoming a company that constantly realizes original technological innovations, adhering to its corporate mission of \"driving'),\n",
       " Document(metadata={'source': 'https://ca.shokz.com/pages/our-story', 'start_index': 802}, page_content='great technological innovations to people\\'s daily life and therefore to becoming a company that constantly realizes original technological innovations, adhering to its corporate mission of \"driving the world forward with technology innovation, making life better for people\".Why Us?Shokz is the world’s leading pioneer in Open-Ear technology.We always adhere to technology-driven and user-driven product development and never stop moving. We have a strong technological foundation with our key Open-Ear technologies: namely Bone Conduction Technology and DirectPitch™ Technology. They both ensure that our users can enjoy their personal listening experiences while keeping safe. We are always innovating to bring even more mind-blowing listening experiences!Countries And RegionsCustomer Review RatingCustomersPatents· Shokz is once again pushing the boundaries of open-ear audio, launching OpenFit 2 and OpenMeet UC.'),\n",
       " Document(metadata={'source': 'https://ca.shokz.com/pages/our-story', 'start_index': 1720}, page_content='· Setting a new industry standard, OpenFit 2 boasts innovative DualBoost Technology, a stable and flexible fit, and physical buttons for precise control whether you’re at the gym or in the office.'),\n",
       " Document(metadata={'source': 'https://ca.shokz.com/pages/our-story', 'start_index': 1917}, page_content=\"· Shokz's first overhead bone conduction headset, OpenMeet UC, is recognized as a CES Innovation Awards® 2025 honoree for prioritizing human-centered features. This marks a groundbreaking leap forward in professional headset comfort, connection, and engineering.· Shokz launches the flagship bone conduction headphone, OpenRun Pro 2, rewriting the rules of open-ear audio with DualPitch. This pioneering technology combines bone conduction for precise mids and highs with a dedicated air conduction speaker for controlled, deep bass to create an unparalleled listening experience. With an ultra-comfortable and secure fit, OpenRun Pro 2 helps sports enthusiasts keep going – even during intense activities.· In 2024, Shokz continued to innovate in the open-ear audio market with the launch of two exciting new products; OpenFit Air and OpenSwim Pro.\"),\n",
       " Document(metadata={'source': 'https://ca.shokz.com/pages/our-story', 'start_index': 2768}, page_content='· Designed for effortless comfort, the OpenFit Air features a unique, pliable cut-out design, ensuring a secure and comfortable fit during extended listening sessions. \\n· OpenSwim Pro’s IP68 waterproof rating and dual modes (Bluetooth and MP3), keep adventure seekers connected to their music from diving into fresh pools, to taking on rugged trails in the backcountry.· Shokz welcomes OpenFit, our first globally launched open-ear true wireless earbuds powered by DirectPitchTM technology. DirectPitchTM technology is an innovative technology which transmits sounds through air conduction without covering your ear canals. This is the first time we set foot into the true wireless earbud area.· Shokz launches OpenRun Pro, the flagship sports headphones with enhanced bass and extended battery life.'),\n",
       " Document(metadata={'source': 'https://ca.shokz.com/pages/our-story', 'start_index': 3571}, page_content='· Shokz launches OpenRun Pro Mini in the same year to better accommodate different head sizes.\\n\\n· Shokz launches a new communication line product OpenComm UC.· The company formerly known as AfterShokz announces a new brand name (Shokz), product names, and logo.\\n\\n\\n· The company upgrades Aeropex to OpenRun, the advanced sports headphone now with a quick charge function!\\n\\n· Xtrainez swimming MP3 player is re-named as OpenSwim, allowing users to swim with open-ear listening.· Shokz relocates its North American headquarters from Syracuse, NY to Austin, TX. Shokz retires Titanium and introduces OpenMove, open-ear lifestyle/sport headphones. \\n\\n· Shokz introduces Aeropex Mini, Aeropex now in a smaller size!'),\n",
       " Document(metadata={'source': 'https://ca.shokz.com/pages/our-story', 'start_index': 4216}, page_content='· Shokz introduces Aeropex Mini, Aeropex now in a smaller size! \\n\\n· Shokz releases OpenComm, the brand’s first-ever bone conduction stereo Bluetooth headset, also our first communication line product.· Shokz welcomes Aeropex, advanced wireless bone conduction headphones, to the product line family.\\n· Shokz also launches the first-ever fully waterproof swimming bone conduction MP3 player, Xtrainerz.· Shokz unveils the Air, wireless bone conduction headphones featuring a lightweight and comfortable design and a titanium wraparound frame.· Shokz launches its wireless bone conduction headphone model Titanium via an Indiegogo campaign and sees record-breaking success.· Shokz releases the Bluez model, marking the brand’s first foray into the wireless bone conduction headphones market.· The brand, formerly known as AfterShokz, makes its debut in the headphone industry in October.\\n· Shokz files its first patent about open-ear technology.· The company is established.')]"
      ]
     },
     "execution_count": 6,
     "metadata": {},
     "output_type": "execute_result"
    }
   ],
   "source": [
    "all_splits"
   ]
  },
  {
   "cell_type": "code",
   "execution_count": null,
   "metadata": {},
   "outputs": [],
   "source": []
  }
 ],
 "metadata": {
  "kernelspec": {
   "display_name": "Python 3",
   "language": "python",
   "name": "python3"
  },
  "language_info": {
   "codemirror_mode": {
    "name": "ipython",
    "version": 3
   },
   "file_extension": ".py",
   "mimetype": "text/x-python",
   "name": "python",
   "nbconvert_exporter": "python",
   "pygments_lexer": "ipython3",
   "version": "3.11.11"
  }
 },
 "nbformat": 4,
 "nbformat_minor": 2
}
